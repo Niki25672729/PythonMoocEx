{
 "cells": [
  {
   "cell_type": "markdown",
   "metadata": {},
   "source": [
    "## 考試加權分數\n",
    "小明今年考大學  \n",
    "依照 [國, 英, 數甲, 數乙, 物, 化, 生, 歷, 地, 公]  \n",
    "他的分數分別是 [86.5, 79.4, 88.2, 96.5, 86.3, 76.8, 96.1, 78.5, 82.4, 88.6]  \n",
    "而他所想申請的大學各系採計的科目權重分別是  \n",
    "{  \n",
    "\"土語系\": [2, 2, 0, 1, 0, 0, 0, 1, 1, 0],  \n",
    "\"財政系\": [1, 1.5, 0, 1.5, 0, 0, 0, 0, 0, 0],  \n",
    "\"金融系\": [1, 1.5, 0, 2, 0, 0, 0, 0, 0, 0],  \n",
    "\"國貿系\": [1.5, 2, 0, 2, 0, 0, 0, 0, 0, 0],  \n",
    "\"會計系\": [1.5, 2, 0, 2, 0, 0, 0, 1, 1, 0],  \n",
    "\"法律系\": [1, 2, 0, 1, 0, 0, 0, 1, 0, 1],  \n",
    "\"公行系\": [1, 1.5, 0, 1.25, 0, 0, 0, 0, 0, 1.25],  \n",
    "\"應數系\": [1, 1, 1.5, 0, 1, 1, 0, 0, 0, 0],  \n",
    "\"教育系\": [1.5, 2, 0, 1.25, 0, 0, 0, 1, 1, 0]  \n",
    "}   \n",
    "  \n",
    "請幫他做出一個互動介面  \n",
    "讓他在選擇科系後可以看到他的加權分數  \n",
    "取到小數點後第一位\n",
    "\n",
    "### 範例輸出\n",
    "![範例圖示1](https://imgur.com/bp98seW.png)\n",
    "![範例圖示2](https://imgur.com/5k0DKaB.png)\n",
    "\n",
    "### Hint\n",
    "* 需要先寫出一個函數 輸入某個科系的名稱後 會告訴你分數是多少\n",
    "* 用 numpy array 可以快速的算出加權分數\n",
    "* 如何只顯示到小數點第一位可以參考影片 0407 互動範例BMI計算器\n",
    "* 可以用 interact"
   ]
  },
  {
   "cell_type": "code",
   "execution_count": 1,
   "metadata": {
    "collapsed": true
   },
   "outputs": [],
   "source": [
    "import numpy as np\n",
    "from  ipywidgets import interact"
   ]
  },
  {
   "cell_type": "code",
   "execution_count": 2,
   "metadata": {
    "collapsed": true
   },
   "outputs": [],
   "source": [
    "scords = np.array([86.5, 79.4, 88.2, 96.5, 86.3, 76.8, 96.1, 78.5, 82.4, 88.6])"
   ]
  },
  {
   "cell_type": "code",
   "execution_count": 3,
   "metadata": {
    "collapsed": true
   },
   "outputs": [],
   "source": [
    "weights = {\n",
    "\"土語系\": [2, 2, 0, 1, 0, 0, 0, 1, 1, 0],\n",
    "\"財政系\": [1, 1.5, 0, 1.5, 0, 0, 0, 0, 0, 0],\n",
    "\"金融系\": [1, 1.5, 0, 2, 0, 0, 0, 0, 0, 0],\n",
    "\"國貿系\": [1.5, 2, 0, 2, 0, 0, 0, 0, 0, 0],\n",
    "\"會計系\": [1.5, 2, 0, 2, 0, 0, 0, 1, 1, 0],\n",
    "\"法律系\": [1, 2, 0, 1, 0, 0, 0, 1, 0, 1],\n",
    "\"公行系\": [1, 1.5, 0, 1.25, 0, 0, 0, 0, 0, 1.25],\n",
    "\"應數系\": [1, 1, 1.5, 0, 1, 1, 0, 0, 0, 0],\n",
    "\"教育系\": [1.5, 2, 0, 1.25, 0, 0, 0, 1, 1, 0]\n",
    "}"
   ]
  },
  {
   "cell_type": "code",
   "execution_count": 4,
   "metadata": {
    "collapsed": true
   },
   "outputs": [],
   "source": [
    "# 我們計算成績的函數\n",
    "def cal(department):\n",
    "    # 取出權重 並轉成numpy.array以方便計算\n",
    "    weight = np.array(weights[department])\n",
    "    \n",
    "    print(\"{:.1f}\".format(np.dot(scords, weight)))"
   ]
  },
  {
   "cell_type": "code",
   "execution_count": 5,
   "metadata": {},
   "outputs": [
    {
     "name": "stdout",
     "output_type": "stream",
     "text": [
      "589.2\n"
     ]
    }
   ],
   "source": [
    "cal(\"土語系\")    # 測試看看對不對"
   ]
  },
  {
   "cell_type": "code",
   "execution_count": 6,
   "metadata": {},
   "outputs": [
    {
     "data": {
      "application/vnd.jupyter.widget-view+json": {
       "model_id": "9ce2bff58ccf4cfa9634efa793b7755b"
      }
     },
     "metadata": {},
     "output_type": "display_data"
    }
   ],
   "source": [
    "interact(cal, department=weights.keys());"
   ]
  }
 ],
 "metadata": {
  "kernelspec": {
   "display_name": "Python 3",
   "language": "python",
   "name": "python3"
  },
  "language_info": {
   "codemirror_mode": {
    "name": "ipython",
    "version": 3
   },
   "file_extension": ".py",
   "mimetype": "text/x-python",
   "name": "python",
   "nbconvert_exporter": "python",
   "pygments_lexer": "ipython3",
   "version": "3.6.1"
  }
 },
 "nbformat": 4,
 "nbformat_minor": 2
}
