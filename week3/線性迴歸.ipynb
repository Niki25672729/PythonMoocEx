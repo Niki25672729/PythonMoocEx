{
 "cells": [
  {
   "cell_type": "markdown",
   "metadata": {},
   "source": [
    "## 線性迴歸\n",
    "\n",
    "請先定義一個一元一次函數 $f(x) = ax+b$ ($a, b$請自己決定 盡量找一個會經過第一象限的函數)\n",
    "\n",
    "並在(0, 10)中平均取100個數字當作輸入資料 $X$\n",
    "\n",
    "可以藉由帶入 $X$ 到 $f$ 裡得到輸出資料 $Y$\n",
    "\n",
    "把$Y$加入一些雜訊 當作要做線性回歸的原始資料$\\widehat {Y}$\n",
    "\n",
    "(雜訊盡量取大一點)\n",
    "\n",
    "對$X$和$\\widehat {Y}$做線性迴歸\n",
    "\n",
    "線性迴歸公式:\n",
    "\n",
    "M = np.matrix([X, np.ones(100)]).T\n",
    "\n",
    "sol = ((M.T \\* M) \\*\\* (-1) \\* M.T\\*matrix(Y_hat).T)\n",
    "\n",
    "以上兩行可直接複製使用\n",
    "\n",
    "sol[0, 0], sol[1, 0] 分別是回歸得到的$\\widehat {a}$和$\\widehat {b}$\n",
    "\n",
    "最後請分別用不同顏色畫出原始的  $f(x) = ax+b$ , 回歸得到的  $\\widehat {f}(x) = \\widehat {a}x+\\widehat {b}$\n",
    "\n",
    "以及畫出原始資料點$X, \\widehat {Y}$\n",
    "\n",
    "### 範例圖片\n",
    "\n",
    "![範例圖片](image.png)\n",
    "\n",
    "### Hint:\n",
    "* 要加入雜訊可以用numpy.random 裡面的函數\n",
    "* 平均取輸入資料、加入雜訊以及畫圖可以參考影片「0310 Array 畫圖超方便」"
   ]
  },
  {
   "cell_type": "code",
   "execution_count": 1,
   "metadata": {
    "collapsed": true
   },
   "outputs": [],
   "source": [
    "%matplotlib inline\n",
    "import numpy as np\n",
    "import matplotlib.pyplot as plt"
   ]
  },
  {
   "cell_type": "code",
   "execution_count": 2,
   "metadata": {
    "collapsed": true
   },
   "outputs": [],
   "source": [
    "# 定義自己的f(x) = a*x+b\n",
    "def f(x):\n",
    "    return 3 * x + 4"
   ]
  },
  {
   "cell_type": "code",
   "execution_count": 3,
   "metadata": {
    "scrolled": true
   },
   "outputs": [
    {
     "data": {
      "text/plain": [
       "array([  0.        ,   0.1010101 ,   0.2020202 ,   0.3030303 ,\n",
       "         0.4040404 ,   0.50505051,   0.60606061,   0.70707071,\n",
       "         0.80808081,   0.90909091,   1.01010101,   1.11111111,\n",
       "         1.21212121,   1.31313131,   1.41414141,   1.51515152,\n",
       "         1.61616162,   1.71717172,   1.81818182,   1.91919192,\n",
       "         2.02020202,   2.12121212,   2.22222222,   2.32323232,\n",
       "         2.42424242,   2.52525253,   2.62626263,   2.72727273,\n",
       "         2.82828283,   2.92929293,   3.03030303,   3.13131313,\n",
       "         3.23232323,   3.33333333,   3.43434343,   3.53535354,\n",
       "         3.63636364,   3.73737374,   3.83838384,   3.93939394,\n",
       "         4.04040404,   4.14141414,   4.24242424,   4.34343434,\n",
       "         4.44444444,   4.54545455,   4.64646465,   4.74747475,\n",
       "         4.84848485,   4.94949495,   5.05050505,   5.15151515,\n",
       "         5.25252525,   5.35353535,   5.45454545,   5.55555556,\n",
       "         5.65656566,   5.75757576,   5.85858586,   5.95959596,\n",
       "         6.06060606,   6.16161616,   6.26262626,   6.36363636,\n",
       "         6.46464646,   6.56565657,   6.66666667,   6.76767677,\n",
       "         6.86868687,   6.96969697,   7.07070707,   7.17171717,\n",
       "         7.27272727,   7.37373737,   7.47474747,   7.57575758,\n",
       "         7.67676768,   7.77777778,   7.87878788,   7.97979798,\n",
       "         8.08080808,   8.18181818,   8.28282828,   8.38383838,\n",
       "         8.48484848,   8.58585859,   8.68686869,   8.78787879,\n",
       "         8.88888889,   8.98989899,   9.09090909,   9.19191919,\n",
       "         9.29292929,   9.39393939,   9.49494949,   9.5959596 ,\n",
       "         9.6969697 ,   9.7979798 ,   9.8989899 ,  10.        ])"
      ]
     },
     "execution_count": 3,
     "metadata": {},
     "output_type": "execute_result"
    }
   ],
   "source": [
    "# 取入資料 X\n",
    "X = np.linspace(0, 10, 100)\n",
    "X"
   ]
  },
  {
   "cell_type": "code",
   "execution_count": 4,
   "metadata": {
    "scrolled": true
   },
   "outputs": [
    {
     "data": {
      "text/plain": [
       "array([  4.        ,   4.3030303 ,   4.60606061,   4.90909091,\n",
       "         5.21212121,   5.51515152,   5.81818182,   6.12121212,\n",
       "         6.42424242,   6.72727273,   7.03030303,   7.33333333,\n",
       "         7.63636364,   7.93939394,   8.24242424,   8.54545455,\n",
       "         8.84848485,   9.15151515,   9.45454545,   9.75757576,\n",
       "        10.06060606,  10.36363636,  10.66666667,  10.96969697,\n",
       "        11.27272727,  11.57575758,  11.87878788,  12.18181818,\n",
       "        12.48484848,  12.78787879,  13.09090909,  13.39393939,\n",
       "        13.6969697 ,  14.        ,  14.3030303 ,  14.60606061,\n",
       "        14.90909091,  15.21212121,  15.51515152,  15.81818182,\n",
       "        16.12121212,  16.42424242,  16.72727273,  17.03030303,\n",
       "        17.33333333,  17.63636364,  17.93939394,  18.24242424,\n",
       "        18.54545455,  18.84848485,  19.15151515,  19.45454545,\n",
       "        19.75757576,  20.06060606,  20.36363636,  20.66666667,\n",
       "        20.96969697,  21.27272727,  21.57575758,  21.87878788,\n",
       "        22.18181818,  22.48484848,  22.78787879,  23.09090909,\n",
       "        23.39393939,  23.6969697 ,  24.        ,  24.3030303 ,\n",
       "        24.60606061,  24.90909091,  25.21212121,  25.51515152,\n",
       "        25.81818182,  26.12121212,  26.42424242,  26.72727273,\n",
       "        27.03030303,  27.33333333,  27.63636364,  27.93939394,\n",
       "        28.24242424,  28.54545455,  28.84848485,  29.15151515,\n",
       "        29.45454545,  29.75757576,  30.06060606,  30.36363636,\n",
       "        30.66666667,  30.96969697,  31.27272727,  31.57575758,\n",
       "        31.87878788,  32.18181818,  32.48484848,  32.78787879,\n",
       "        33.09090909,  33.39393939,  33.6969697 ,  34.        ])"
      ]
     },
     "execution_count": 4,
     "metadata": {},
     "output_type": "execute_result"
    }
   ],
   "source": [
    "# 得到輸入資料 Y\n",
    "Y = f(X)\n",
    "Y"
   ]
  },
  {
   "cell_type": "code",
   "execution_count": 5,
   "metadata": {
    "scrolled": true
   },
   "outputs": [
    {
     "data": {
      "text/plain": [
       "array([ -1.76391403,   4.34719682,  12.26575863,  -0.2558827 ,\n",
       "        -0.80566713,  13.30033752,   2.01079549,   8.71333394,\n",
       "         6.32943677,   7.53978488,  10.93076374,  -1.88433984,\n",
       "        10.09704952,   8.6367987 ,  13.31964928,  11.01337162,\n",
       "         0.51415839,  11.27748027,   6.89753248,  12.52163161,\n",
       "        12.68139129,   6.12901064,   9.71629496,   7.98944563,\n",
       "        10.13441805,  16.2594842 ,  10.12741199,  14.49964709,\n",
       "        14.43062227,  11.92961932,   7.27904933,  11.79883534,\n",
       "        12.36430748,   9.75908275,  14.30525886,  19.77792405,\n",
       "        30.83048303,   9.20773917,  20.21533882,  16.82855358,\n",
       "        11.14596607,  19.18972458,  25.24275641,  16.7191697 ,\n",
       "        13.96776543,  19.15672993,  26.97715844,  27.24271382,\n",
       "        17.24838759,  18.85493492,  20.73800181,  16.65949382,\n",
       "        19.94922893,  20.91555329,  18.27221596,  14.59391561,\n",
       "        13.1677565 ,  28.9921582 ,  34.62397773,  27.13843907,\n",
       "        14.93226049,  30.82679378,  18.486148  ,  26.44756289,\n",
       "        26.19580946,  20.63348272,  22.65923063,  18.32001806,\n",
       "        24.8468242 ,  28.92029879,  29.85316872,  22.5681721 ,\n",
       "        21.19708904,  28.10059145,  18.17222944,  31.46406071,\n",
       "        29.12536171,  37.23204332,  20.00539307,  19.49756703,\n",
       "        24.09601335,  27.06099376,  27.50812672,  39.05601194,\n",
       "        32.4384085 ,  19.41305324,  22.96166185,  19.20477494,\n",
       "        37.42435161,  35.72366498,  31.20427518,  35.54295305,\n",
       "        36.2063532 ,  33.56472359,  36.01195535,  36.49269661,\n",
       "        39.72736468,  35.19845009,  35.84612173,  36.18668567])"
      ]
     },
     "execution_count": 5,
     "metadata": {},
     "output_type": "execute_result"
    }
   ],
   "source": [
    "# 加入雜訊得到 Y_hat\n",
    "Y_hat = Y + np.random.randn(100)*5 + 1\n",
    "Y_hat"
   ]
  },
  {
   "cell_type": "code",
   "execution_count": 6,
   "metadata": {
    "collapsed": true
   },
   "outputs": [],
   "source": [
    "# 做線性回歸\n",
    "M = np.matrix([X, np.ones(100)]).T\n",
    "sol = ((M.T * M) ** (-1) * M.T*np.matrix(Y_hat).T)"
   ]
  },
  {
   "cell_type": "code",
   "execution_count": 7,
   "metadata": {},
   "outputs": [
    {
     "data": {
      "text/plain": [
       "3.1000482879037254"
      ]
     },
     "execution_count": 7,
     "metadata": {},
     "output_type": "execute_result"
    }
   ],
   "source": [
    "# 原本設a = 3, 看看回歸做出來的是多少\n",
    "a_hat = sol[0, 0]\n",
    "a_hat"
   ]
  },
  {
   "cell_type": "code",
   "execution_count": 8,
   "metadata": {},
   "outputs": [
    {
     "data": {
      "text/plain": [
       "3.9239384332759402"
      ]
     },
     "execution_count": 8,
     "metadata": {},
     "output_type": "execute_result"
    }
   ],
   "source": [
    "# 原本設b = 4, 看看回歸做出來的是多少\n",
    "b_hat = sol[1, 0]\n",
    "b_hat"
   ]
  },
  {
   "cell_type": "code",
   "execution_count": 9,
   "metadata": {
    "collapsed": true
   },
   "outputs": [],
   "source": [
    "# 這是我們得到的回歸方程式\n",
    "def f_hat(x):\n",
    "    return a_hat * x + b_hat"
   ]
  },
  {
   "cell_type": "code",
   "execution_count": 10,
   "metadata": {},
   "outputs": [
    {
     "data": {
      "text/plain": [
       "[<matplotlib.lines.Line2D at 0x10aa1c588>]"
      ]
     },
     "execution_count": 10,
     "metadata": {},
     "output_type": "execute_result"
    },
    {
     "data": {
      "image/png": "[encoded data removed]",
      "text/plain": [
       "<matplotlib.figure.Figure at 0x11125c278>"
      ]
     },
     "metadata": {},
     "output_type": "display_data"
    }
   ],
   "source": [
    "# 最後畫圖\n",
    "\n",
    "plt.plot(X, f(X), 'r')           # 原始的 f(x) = a*x + b\n",
    "plt.plot(X, f_hat(X), 'b')       # 回歸得到的 f_hat(x) = a_hat*x + b_hat\n",
    "plt.plot(X, Y_hat, '*')          # 原始資料"
   ]
  },
  {
   "cell_type": "code",
   "execution_count": null,
   "metadata": {
    "collapsed": true
   },
   "outputs": [],
   "source": []
  },
  {
   "cell_type": "code",
   "execution_count": null,
   "metadata": {
    "collapsed": true
   },
   "outputs": [],
   "source": []
  }
 ],
 "metadata": {
  "kernelspec": {
   "display_name": "Python 3",
   "language": "python",
   "name": "python3"
  },
  "language_info": {
   "codemirror_mode": {
    "name": "ipython",
    "version": 3
   },
   "file_extension": ".py",
   "mimetype": "text/x-python",
   "name": "python",
   "nbconvert_exporter": "python",
   "pygments_lexer": "ipython3",
   "version": "3.6.1"
  }
 },
 "nbformat": 4,
 "nbformat_minor": 2
}
