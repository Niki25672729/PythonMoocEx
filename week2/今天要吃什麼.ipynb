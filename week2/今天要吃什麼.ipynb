{
 "cells": [
  {
   "cell_type": "markdown",
   "metadata": {},
   "source": [
    "## 今天要吃什麼\n",
    "\n",
    "請寫出一個程式幫我決定今天要吃什麼\n",
    "\n",
    "給定以下list:\n",
    "\n",
    "breakfast_list = ['古早味', '德合香', '布朗奇早餐', '星巴克', '小貓咪', '傳香飯糰', '米塔', '麥當勞', '摩斯', '7-11', '全家']\n",
    "\n",
    "lunch_and_dinner_list = ['小公寓', '波波恰恰', '湯饌', '享窩咖啡', '湯包', '殺人魔王', '呷麵騎士', '提洛斯', '蝴蝶漾', '東京小城', '金鰭', '樂山', 'My麵屋', '李氏餐酒館', '里克', '水煎包', '憩賢樓', '高句麗', '魯智深', '敏忠', '大正亭', '阿里郎', '鬼匠', 'Juicy Bun', '滇味廚房']\n",
    "\n",
    "high_price_list = ['星巴克', '摩斯', '小公寓', '享窩咖啡', '金鰭', '李氏餐酒館', '里克', 'Juicy Bun', '滇味廚房']\n",
    "\n",
    "snack_list = ['豆花', '政大烤場', '丐幫滷味', '鹹水雞']\n",
    "\n",
    "\n",
    "請遵守以下規則：\n",
    "1. 依照早餐-午餐-晚餐的順序決定\n",
    "2. 餐點必須用亂數決定\n",
    "3. 除了定義以上的list，不可以在其他地方出現字串                \n",
    "    (也就是說不可以決定午餐吃'小公寓'後，另外定義dinner = ['波波恰恰', '湯饌', '享窩咖啡',...]）\n",
    "4. 一天裡面只可以有一餐是屬於high_price\n",
    "5. 午餐跟晚餐我不想吃同一家\n",
    "6. 如果當天三餐都沒有屬於high_price的話，就要吃宵夜\n",
    "7. 必須使用format印出結果\n",
    "\n",
    "### 範例輸出\n",
    "\n",
    "Case 1:  \n",
    "早餐：古早味  \n",
    "午餐：提洛斯  \n",
    "晚餐：大正亭  \n",
    "宵夜：鹹水雞  \n",
    "\n",
    "\n",
    "Case 2:  \n",
    "早餐：傳香飯糰  \n",
    "午餐：小公寓  \n",
    "晚餐：鬼匠\n",
    "\n",
    "\n",
    "\n",
    "### Hint\n",
    "* format可參考影片 0203 字串簡簡單單格式化\n",
    "* 可以參考影片 0210 判斷關鍵字有沒有出現在字串中、0211 if 條件判斷、0212 亂數好好玩"
   ]
  },
  {
   "cell_type": "code",
   "execution_count": 1,
   "metadata": {
    "collapsed": true
   },
   "outputs": [],
   "source": [
    "import numpy as np"
   ]
  },
  {
   "cell_type": "code",
   "execution_count": 2,
   "metadata": {
    "collapsed": true
   },
   "outputs": [],
   "source": [
    "breakfast_list = ['古早味', '德合香', '布朗奇早餐', '星巴克', '小貓咪', '傳香飯糰', '米塔', '麥當勞', '摩斯', '7-11', '全家']\n",
    "lunch_and_dinner_list = ['小公寓', '波波恰恰', '湯饌', '享窩咖啡', '湯包', '殺人魔王', '呷麵騎士', '提洛斯', '蝴蝶漾', '東京小城', '金鰭', '樂山', 'My麵屋', '李氏餐酒館', '里克', '水煎包', '憩賢樓', '高句麗', '魯智深', '敏忠', '大正亭', '阿里郎', '鬼匠', 'Juicy Bun', '滇味廚房']\n",
    "high_price_list = ['星巴克', '摩斯', '小公寓', '享窩咖啡', '金鰭', '李氏餐酒館', '里克', 'Juicy Bun', '滇味廚房']\n",
    "snack_list = ['豆花', '政大烤場', '丐幫滷味', '鹹水雞']"
   ]
  },
  {
   "cell_type": "code",
   "execution_count": 3,
   "metadata": {},
   "outputs": [
    {
     "data": {
      "text/plain": [
       "4"
      ]
     },
     "execution_count": 3,
     "metadata": {},
     "output_type": "execute_result"
    }
   ],
   "source": [
    "# 因為規定要用亂數決定餐點 先來測試一下亂數\n",
    "i = np.random.randint(0, len(breakfast_list))\n",
    "i"
   ]
  },
  {
   "cell_type": "code",
   "execution_count": 4,
   "metadata": {},
   "outputs": [
    {
     "data": {
      "text/plain": [
       "[1, 2, 3, 4]"
      ]
     },
     "execution_count": 4,
     "metadata": {},
     "output_type": "execute_result"
    }
   ],
   "source": [
    "# 有時我想複製原始的list來做一些操作 先來測試一下\n",
    "l = [1, 2, 3, 4]\n",
    "l"
   ]
  },
  {
   "cell_type": "code",
   "execution_count": 5,
   "metadata": {},
   "outputs": [
    {
     "data": {
      "text/plain": [
       "[1, 2, 3, 4]"
      ]
     },
     "execution_count": 5,
     "metadata": {},
     "output_type": "execute_result"
    }
   ],
   "source": [
    "s = l\n",
    "s"
   ]
  },
  {
   "cell_type": "code",
   "execution_count": 6,
   "metadata": {},
   "outputs": [
    {
     "data": {
      "text/plain": [
       "[2, 3, 4]"
      ]
     },
     "execution_count": 6,
     "metadata": {},
     "output_type": "execute_result"
    }
   ],
   "source": [
    "s.remove(1)\n",
    "s"
   ]
  },
  {
   "cell_type": "code",
   "execution_count": 7,
   "metadata": {},
   "outputs": [
    {
     "data": {
      "text/plain": [
       "[2, 3, 4]"
      ]
     },
     "execution_count": 7,
     "metadata": {},
     "output_type": "execute_result"
    }
   ],
   "source": [
    "l     # 發現原始的l沒有執行remove也被改了"
   ]
  },
  {
   "cell_type": "code",
   "execution_count": 8,
   "metadata": {},
   "outputs": [
    {
     "name": "stdout",
     "output_type": "stream",
     "text": [
      "l = [1, 2, 3, 4]\n",
      "s = [1, 2, 3, 4]\n"
     ]
    }
   ],
   "source": [
    "l = [1, 2, 3, 4]\n",
    "s = l.copy()\n",
    "print(\"l = {}\\ns = {}\".format(l, s))"
   ]
  },
  {
   "cell_type": "code",
   "execution_count": 9,
   "metadata": {},
   "outputs": [
    {
     "data": {
      "text/plain": [
       "[2, 3, 4]"
      ]
     },
     "execution_count": 9,
     "metadata": {},
     "output_type": "execute_result"
    }
   ],
   "source": [
    "s.remove(1)\n",
    "s"
   ]
  },
  {
   "cell_type": "code",
   "execution_count": 10,
   "metadata": {},
   "outputs": [
    {
     "data": {
      "text/plain": [
       "[1, 2, 3, 4]"
      ]
     },
     "execution_count": 10,
     "metadata": {},
     "output_type": "execute_result"
    }
   ],
   "source": [
    "l"
   ]
  },
  {
   "cell_type": "code",
   "execution_count": 11,
   "metadata": {},
   "outputs": [
    {
     "name": "stdout",
     "output_type": "stream",
     "text": [
      "早餐：德合香\n",
      "午餐：阿里郎\n",
      "晚餐：殺人魔王\n",
      "宵夜：政大烤場\n"
     ]
    }
   ],
   "source": [
    "# 決定早餐\n",
    "breakfast = breakfast_list[np.random.randint(0, len(breakfast_list))]\n",
    "\n",
    "# 如果早餐屬於high_price_list 午餐跟晚餐不能吃太好\n",
    "if breakfast in high_price_list:\n",
    "    temp = lunch_and_dinner_list.copy()\n",
    "    lunch = temp[np.random.randint(0, len(temp))]\n",
    "    \n",
    "    # 如果午餐選到high_price_list就要重選\n",
    "    while lunch in high_price_list:\n",
    "        temp.remove(lunch)             # 避免一直選到high_price_list裡面的\n",
    "        lunch = temp[np.random.randint(0, len(temp))]\n",
    "    temp.remove(lunch)                 # 避免晚餐會跟午餐重複\n",
    "    \n",
    "    # 選好午餐了 來決定晚餐\n",
    "    dinner = temp[np.random.randint(0, len(temp))]\n",
    "    \n",
    "    # 如果晚餐選到high_price_list就要重選\n",
    "    while dinner in high_price_list:\n",
    "        temp.remove(dinner)             # 避免一直選到high_price_list裡面的\n",
    "        dinner = temp[np.random.randint(0, len(temp))]\n",
    "        \n",
    "# 早餐價位不高 午、晚餐可以吃高價位的\n",
    "else:\n",
    "    lunch = lunch_and_dinner_list[np.random.randint(0, len(lunch_and_dinner_list))]\n",
    "    \n",
    "    # 如果午餐屬於high_price_list 晚餐不能吃太好\n",
    "    if lunch in high_price_list:\n",
    "        temp = lunch_and_dinner_list.copy()\n",
    "        temp.remove(lunch)              # 避免晚餐會跟午餐重複\n",
    "        dinner = temp[np.random.randint(0, len(temp))]\n",
    "        \n",
    "        # 如果晚餐選到high_price_list就要重選\n",
    "        while dinner in high_price_list:\n",
    "            temp.remove(dinner)             # 避免一直選到high_price_list裡面的\n",
    "            dinner = temp[np.random.randint(0, len(temp))]\n",
    "            \n",
    "    # 早餐、午餐都屬於低價位\n",
    "    else:\n",
    "        temp = lunch_and_dinner_list.copy()\n",
    "        temp.remove(lunch)              # 避免晚餐會跟午餐重複\n",
    "        dinner = temp[np.random.randint(0, len(temp))]\n",
    "            \n",
    "# 早餐 午餐 晚餐都選好 印出結果\n",
    "print(\"早餐：{}\".format(breakfast))\n",
    "print(\"午餐：{}\".format(lunch))\n",
    "print(\"晚餐：{}\".format(dinner))\n",
    "\n",
    "# 如果早、午、晚餐都不屬於高價位 我要吃宵夜\n",
    "if not ( (breakfast in high_price_list) or (lunch in high_price_list) or (dinner in high_price_list) ):\n",
    "    snack = snack_list[np.random.randint(0, len(snack_list))]\n",
    "    print(\"宵夜：{}\".format(snack))"
   ]
  },
  {
   "cell_type": "markdown",
   "metadata": {},
   "source": [
    "在以上的範例程式中  \n",
    "temp = lunch_and_dinner_list.copy()  \n",
    "後面不加copy並不會影響結果  "
   ]
  },
  {
   "cell_type": "code",
   "execution_count": null,
   "metadata": {
    "collapsed": true
   },
   "outputs": [],
   "source": []
  }
 ],
 "metadata": {
  "kernelspec": {
   "display_name": "Python 3",
   "language": "python",
   "name": "python3"
  },
  "language_info": {
   "codemirror_mode": {
    "name": "ipython",
    "version": 3
   },
   "file_extension": ".py",
   "mimetype": "text/x-python",
   "name": "python",
   "nbconvert_exporter": "python",
   "pygments_lexer": "ipython3",
   "version": "3.6.1"
  }
 },
 "nbformat": 4,
 "nbformat_minor": 2
}
